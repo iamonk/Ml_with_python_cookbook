{
  "nbformat": 4,
  "nbformat_minor": 0,
  "metadata": {
    "colab": {
      "name": "Chapter_2_Loading_Data.ipynb",
      "provenance": [],
      "collapsed_sections": [],
      "authorship_tag": "ABX9TyOL9JGnEfWzk4A1V8je4IkM",
      "include_colab_link": true
    },
    "kernelspec": {
      "name": "python3",
      "display_name": "Python 3"
    }
  },
  "cells": [
    {
      "cell_type": "markdown",
      "metadata": {
        "id": "view-in-github",
        "colab_type": "text"
      },
      "source": [
        "<a href=\"https://colab.research.google.com/github/iamonk/Ml_with_python_cookbook/blob/main/Chapter_2_Loading_Data.ipynb\" target=\"_parent\"><img src=\"https://colab.research.google.com/assets/colab-badge.svg\" alt=\"Open In Colab\"/></a>"
      ]
    },
    {
      "cell_type": "code",
      "metadata": {
        "id": "pwMg5E556f8F"
      },
      "source": [
        "#The FirstMost Task of any machine learing problem is to load data."
      ],
      "execution_count": 1,
      "outputs": []
    },
    {
      "cell_type": "code",
      "metadata": {
        "id": "Wzt0lXpr63od"
      },
      "source": [
        "#Preexisting Dataset(scikit-learn)\r\n",
        "from sklearn import datasets\r\n",
        "digits=datasets.load_digits()\r\n",
        "features=digits.data\r\n",
        "target=digits.target"
      ],
      "execution_count": 2,
      "outputs": []
    },
    {
      "cell_type": "code",
      "metadata": {
        "colab": {
          "base_uri": "https://localhost:8080/"
        },
        "id": "xReVdIbX7UtK",
        "outputId": "c616506f-aeb0-4f74-9f4b-12ae7486eeb0"
      },
      "source": [
        "features[0]"
      ],
      "execution_count": 3,
      "outputs": [
        {
          "output_type": "execute_result",
          "data": {
            "text/plain": [
              "array([ 0.,  0.,  5., 13.,  9.,  1.,  0.,  0.,  0.,  0., 13., 15., 10.,\n",
              "       15.,  5.,  0.,  0.,  3., 15.,  2.,  0., 11.,  8.,  0.,  0.,  4.,\n",
              "       12.,  0.,  0.,  8.,  8.,  0.,  0.,  5.,  8.,  0.,  0.,  9.,  8.,\n",
              "        0.,  0.,  4., 11.,  0.,  1., 12.,  7.,  0.,  0.,  2., 14.,  5.,\n",
              "       10., 12.,  0.,  0.,  0.,  0.,  6., 13., 10.,  0.,  0.,  0.])"
            ]
          },
          "metadata": {
            "tags": []
          },
          "execution_count": 3
        }
      ]
    },
    {
      "cell_type": "code",
      "metadata": {
        "colab": {
          "base_uri": "https://localhost:8080/"
        },
        "id": "kUmPRuo87Ztu",
        "outputId": "19692fb2-26aa-4264-fa7c-f65ebd6c97cd"
      },
      "source": [
        "iris_data=datasets.load_iris()\r\n",
        "features=iris_data.data\r\n",
        "features"
      ],
      "execution_count": 4,
      "outputs": [
        {
          "output_type": "execute_result",
          "data": {
            "text/plain": [
              "array([[5.1, 3.5, 1.4, 0.2],\n",
              "       [4.9, 3. , 1.4, 0.2],\n",
              "       [4.7, 3.2, 1.3, 0.2],\n",
              "       [4.6, 3.1, 1.5, 0.2],\n",
              "       [5. , 3.6, 1.4, 0.2],\n",
              "       [5.4, 3.9, 1.7, 0.4],\n",
              "       [4.6, 3.4, 1.4, 0.3],\n",
              "       [5. , 3.4, 1.5, 0.2],\n",
              "       [4.4, 2.9, 1.4, 0.2],\n",
              "       [4.9, 3.1, 1.5, 0.1],\n",
              "       [5.4, 3.7, 1.5, 0.2],\n",
              "       [4.8, 3.4, 1.6, 0.2],\n",
              "       [4.8, 3. , 1.4, 0.1],\n",
              "       [4.3, 3. , 1.1, 0.1],\n",
              "       [5.8, 4. , 1.2, 0.2],\n",
              "       [5.7, 4.4, 1.5, 0.4],\n",
              "       [5.4, 3.9, 1.3, 0.4],\n",
              "       [5.1, 3.5, 1.4, 0.3],\n",
              "       [5.7, 3.8, 1.7, 0.3],\n",
              "       [5.1, 3.8, 1.5, 0.3],\n",
              "       [5.4, 3.4, 1.7, 0.2],\n",
              "       [5.1, 3.7, 1.5, 0.4],\n",
              "       [4.6, 3.6, 1. , 0.2],\n",
              "       [5.1, 3.3, 1.7, 0.5],\n",
              "       [4.8, 3.4, 1.9, 0.2],\n",
              "       [5. , 3. , 1.6, 0.2],\n",
              "       [5. , 3.4, 1.6, 0.4],\n",
              "       [5.2, 3.5, 1.5, 0.2],\n",
              "       [5.2, 3.4, 1.4, 0.2],\n",
              "       [4.7, 3.2, 1.6, 0.2],\n",
              "       [4.8, 3.1, 1.6, 0.2],\n",
              "       [5.4, 3.4, 1.5, 0.4],\n",
              "       [5.2, 4.1, 1.5, 0.1],\n",
              "       [5.5, 4.2, 1.4, 0.2],\n",
              "       [4.9, 3.1, 1.5, 0.2],\n",
              "       [5. , 3.2, 1.2, 0.2],\n",
              "       [5.5, 3.5, 1.3, 0.2],\n",
              "       [4.9, 3.6, 1.4, 0.1],\n",
              "       [4.4, 3. , 1.3, 0.2],\n",
              "       [5.1, 3.4, 1.5, 0.2],\n",
              "       [5. , 3.5, 1.3, 0.3],\n",
              "       [4.5, 2.3, 1.3, 0.3],\n",
              "       [4.4, 3.2, 1.3, 0.2],\n",
              "       [5. , 3.5, 1.6, 0.6],\n",
              "       [5.1, 3.8, 1.9, 0.4],\n",
              "       [4.8, 3. , 1.4, 0.3],\n",
              "       [5.1, 3.8, 1.6, 0.2],\n",
              "       [4.6, 3.2, 1.4, 0.2],\n",
              "       [5.3, 3.7, 1.5, 0.2],\n",
              "       [5. , 3.3, 1.4, 0.2],\n",
              "       [7. , 3.2, 4.7, 1.4],\n",
              "       [6.4, 3.2, 4.5, 1.5],\n",
              "       [6.9, 3.1, 4.9, 1.5],\n",
              "       [5.5, 2.3, 4. , 1.3],\n",
              "       [6.5, 2.8, 4.6, 1.5],\n",
              "       [5.7, 2.8, 4.5, 1.3],\n",
              "       [6.3, 3.3, 4.7, 1.6],\n",
              "       [4.9, 2.4, 3.3, 1. ],\n",
              "       [6.6, 2.9, 4.6, 1.3],\n",
              "       [5.2, 2.7, 3.9, 1.4],\n",
              "       [5. , 2. , 3.5, 1. ],\n",
              "       [5.9, 3. , 4.2, 1.5],\n",
              "       [6. , 2.2, 4. , 1. ],\n",
              "       [6.1, 2.9, 4.7, 1.4],\n",
              "       [5.6, 2.9, 3.6, 1.3],\n",
              "       [6.7, 3.1, 4.4, 1.4],\n",
              "       [5.6, 3. , 4.5, 1.5],\n",
              "       [5.8, 2.7, 4.1, 1. ],\n",
              "       [6.2, 2.2, 4.5, 1.5],\n",
              "       [5.6, 2.5, 3.9, 1.1],\n",
              "       [5.9, 3.2, 4.8, 1.8],\n",
              "       [6.1, 2.8, 4. , 1.3],\n",
              "       [6.3, 2.5, 4.9, 1.5],\n",
              "       [6.1, 2.8, 4.7, 1.2],\n",
              "       [6.4, 2.9, 4.3, 1.3],\n",
              "       [6.6, 3. , 4.4, 1.4],\n",
              "       [6.8, 2.8, 4.8, 1.4],\n",
              "       [6.7, 3. , 5. , 1.7],\n",
              "       [6. , 2.9, 4.5, 1.5],\n",
              "       [5.7, 2.6, 3.5, 1. ],\n",
              "       [5.5, 2.4, 3.8, 1.1],\n",
              "       [5.5, 2.4, 3.7, 1. ],\n",
              "       [5.8, 2.7, 3.9, 1.2],\n",
              "       [6. , 2.7, 5.1, 1.6],\n",
              "       [5.4, 3. , 4.5, 1.5],\n",
              "       [6. , 3.4, 4.5, 1.6],\n",
              "       [6.7, 3.1, 4.7, 1.5],\n",
              "       [6.3, 2.3, 4.4, 1.3],\n",
              "       [5.6, 3. , 4.1, 1.3],\n",
              "       [5.5, 2.5, 4. , 1.3],\n",
              "       [5.5, 2.6, 4.4, 1.2],\n",
              "       [6.1, 3. , 4.6, 1.4],\n",
              "       [5.8, 2.6, 4. , 1.2],\n",
              "       [5. , 2.3, 3.3, 1. ],\n",
              "       [5.6, 2.7, 4.2, 1.3],\n",
              "       [5.7, 3. , 4.2, 1.2],\n",
              "       [5.7, 2.9, 4.2, 1.3],\n",
              "       [6.2, 2.9, 4.3, 1.3],\n",
              "       [5.1, 2.5, 3. , 1.1],\n",
              "       [5.7, 2.8, 4.1, 1.3],\n",
              "       [6.3, 3.3, 6. , 2.5],\n",
              "       [5.8, 2.7, 5.1, 1.9],\n",
              "       [7.1, 3. , 5.9, 2.1],\n",
              "       [6.3, 2.9, 5.6, 1.8],\n",
              "       [6.5, 3. , 5.8, 2.2],\n",
              "       [7.6, 3. , 6.6, 2.1],\n",
              "       [4.9, 2.5, 4.5, 1.7],\n",
              "       [7.3, 2.9, 6.3, 1.8],\n",
              "       [6.7, 2.5, 5.8, 1.8],\n",
              "       [7.2, 3.6, 6.1, 2.5],\n",
              "       [6.5, 3.2, 5.1, 2. ],\n",
              "       [6.4, 2.7, 5.3, 1.9],\n",
              "       [6.8, 3. , 5.5, 2.1],\n",
              "       [5.7, 2.5, 5. , 2. ],\n",
              "       [5.8, 2.8, 5.1, 2.4],\n",
              "       [6.4, 3.2, 5.3, 2.3],\n",
              "       [6.5, 3. , 5.5, 1.8],\n",
              "       [7.7, 3.8, 6.7, 2.2],\n",
              "       [7.7, 2.6, 6.9, 2.3],\n",
              "       [6. , 2.2, 5. , 1.5],\n",
              "       [6.9, 3.2, 5.7, 2.3],\n",
              "       [5.6, 2.8, 4.9, 2. ],\n",
              "       [7.7, 2.8, 6.7, 2. ],\n",
              "       [6.3, 2.7, 4.9, 1.8],\n",
              "       [6.7, 3.3, 5.7, 2.1],\n",
              "       [7.2, 3.2, 6. , 1.8],\n",
              "       [6.2, 2.8, 4.8, 1.8],\n",
              "       [6.1, 3. , 4.9, 1.8],\n",
              "       [6.4, 2.8, 5.6, 2.1],\n",
              "       [7.2, 3. , 5.8, 1.6],\n",
              "       [7.4, 2.8, 6.1, 1.9],\n",
              "       [7.9, 3.8, 6.4, 2. ],\n",
              "       [6.4, 2.8, 5.6, 2.2],\n",
              "       [6.3, 2.8, 5.1, 1.5],\n",
              "       [6.1, 2.6, 5.6, 1.4],\n",
              "       [7.7, 3. , 6.1, 2.3],\n",
              "       [6.3, 3.4, 5.6, 2.4],\n",
              "       [6.4, 3.1, 5.5, 1.8],\n",
              "       [6. , 3. , 4.8, 1.8],\n",
              "       [6.9, 3.1, 5.4, 2.1],\n",
              "       [6.7, 3.1, 5.6, 2.4],\n",
              "       [6.9, 3.1, 5.1, 2.3],\n",
              "       [5.8, 2.7, 5.1, 1.9],\n",
              "       [6.8, 3.2, 5.9, 2.3],\n",
              "       [6.7, 3.3, 5.7, 2.5],\n",
              "       [6.7, 3. , 5.2, 2.3],\n",
              "       [6.3, 2.5, 5. , 1.9],\n",
              "       [6.5, 3. , 5.2, 2. ],\n",
              "       [6.2, 3.4, 5.4, 2.3],\n",
              "       [5.9, 3. , 5.1, 1.8]])"
            ]
          },
          "metadata": {
            "tags": []
          },
          "execution_count": 4
        }
      ]
    },
    {
      "cell_type": "code",
      "metadata": {
        "colab": {
          "base_uri": "https://localhost:8080/"
        },
        "id": "SwY9xclK8BEq",
        "outputId": "80f4077d-fedf-4730-d896-ddf15cad300e"
      },
      "source": [
        "target=iris_data.target\r\n",
        "target"
      ],
      "execution_count": 5,
      "outputs": [
        {
          "output_type": "execute_result",
          "data": {
            "text/plain": [
              "array([0, 0, 0, 0, 0, 0, 0, 0, 0, 0, 0, 0, 0, 0, 0, 0, 0, 0, 0, 0, 0, 0,\n",
              "       0, 0, 0, 0, 0, 0, 0, 0, 0, 0, 0, 0, 0, 0, 0, 0, 0, 0, 0, 0, 0, 0,\n",
              "       0, 0, 0, 0, 0, 0, 1, 1, 1, 1, 1, 1, 1, 1, 1, 1, 1, 1, 1, 1, 1, 1,\n",
              "       1, 1, 1, 1, 1, 1, 1, 1, 1, 1, 1, 1, 1, 1, 1, 1, 1, 1, 1, 1, 1, 1,\n",
              "       1, 1, 1, 1, 1, 1, 1, 1, 1, 1, 1, 1, 2, 2, 2, 2, 2, 2, 2, 2, 2, 2,\n",
              "       2, 2, 2, 2, 2, 2, 2, 2, 2, 2, 2, 2, 2, 2, 2, 2, 2, 2, 2, 2, 2, 2,\n",
              "       2, 2, 2, 2, 2, 2, 2, 2, 2, 2, 2, 2, 2, 2, 2, 2, 2, 2])"
            ]
          },
          "metadata": {
            "tags": []
          },
          "execution_count": 5
        }
      ]
    },
    {
      "cell_type": "code",
      "metadata": {
        "colab": {
          "base_uri": "https://localhost:8080/"
        },
        "id": "XdUjNs_28HQJ",
        "outputId": "9f7aefb8-0eef-454f-f674-70bb23817a40"
      },
      "source": [
        "features.shape,target.shape"
      ],
      "execution_count": 6,
      "outputs": [
        {
          "output_type": "execute_result",
          "data": {
            "text/plain": [
              "((150, 4), (150,))"
            ]
          },
          "metadata": {
            "tags": []
          },
          "execution_count": 6
        }
      ]
    },
    {
      "cell_type": "code",
      "metadata": {
        "id": "_zG10gOl9DVG"
      },
      "source": [
        "#features are input(like no of room) and target is y the answer(like wheather you have cancer or not)"
      ],
      "execution_count": 7,
      "outputs": []
    },
    {
      "cell_type": "markdown",
      "metadata": {
        "id": "IYiJewTp9RCL"
      },
      "source": [
        "##Creating a simulated dataset (It's Mean we are creating our owm data)\r\n",
        "We can create simulated dataset from sklearn\r\n",
        "There are 3 categories\r\n",
        "1)make_regression\r\n",
        "2)make_classification\r\n",
        "3)make_blobs\r\n"
      ]
    },
    {
      "cell_type": "code",
      "metadata": {
        "id": "d-STujcOCW-f"
      },
      "source": [
        "from sklearn.datasets import make_regression"
      ],
      "execution_count": 8,
      "outputs": []
    },
    {
      "cell_type": "code",
      "metadata": {
        "id": "AZvBSaCp97hQ"
      },
      "source": [
        "#Loading csv,excel and json file {pd.read_csv(),pd.read_excel(),pd.read_json()}\r\n",
        "#Just look for parameter\r\n",
        "\r\n",
        "import pandas as pd\r\n",
        "\r\n",
        "features,target,coefficient=make_regression(n_samples=100,n_features=3,n_informative=3,coef=True,random_state=1,noise=0)\r\n"
      ],
      "execution_count": 11,
      "outputs": []
    },
    {
      "cell_type": "code",
      "metadata": {
        "colab": {
          "base_uri": "https://localhost:8080/"
        },
        "id": "C9ytUBc1xtdk",
        "outputId": "6b11c03c-6934-4d52-926c-52e11feb1b6a"
      },
      "source": [
        "features"
      ],
      "execution_count": 12,
      "outputs": [
        {
          "output_type": "execute_result",
          "data": {
            "text/plain": [
              "array([[ 1.29322588e+00, -6.17362064e-01, -1.10447026e-01],\n",
              "       [-2.79308500e+00,  3.66332015e-01,  1.93752881e+00],\n",
              "       [ 8.01861032e-01, -1.86569772e-01,  4.65672984e-02],\n",
              "       [ 1.29101580e-01,  5.02740882e-01,  1.61694960e+00],\n",
              "       [-6.91660752e-01, -6.87172700e-01, -3.96753527e-01],\n",
              "       [-7.54397941e-01,  5.12929820e-01,  1.25286816e+00],\n",
              "       [ 1.90465871e+00,  6.59049796e-01,  1.11105670e+00],\n",
              "       [ 2.01830179e-01,  1.79215821e+00,  6.61020288e-01],\n",
              "       [ 4.22137467e-02, -1.10061918e+00,  5.82815214e-01],\n",
              "       [-1.39649634e+00, -5.04465863e-01, -1.44411381e+00],\n",
              "       [-3.10116774e-01,  1.03882460e+00, -2.43483776e+00],\n",
              "       [ 8.36004719e-01,  7.58805660e-01,  1.54335911e+00],\n",
              "       [-8.45080274e-02,  4.17302005e-01, -2.97361883e-01],\n",
              "       [-8.90555584e-01,  1.95607890e+00, -1.11911540e+00],\n",
              "       [-9.35769434e-01,  5.30355467e-01, -2.67888080e-01],\n",
              "       [ 1.55880554e+00, -1.21974440e+00,  1.09402696e-01],\n",
              "       [ 8.10951673e-01, -4.00878192e-01,  1.04444209e+00],\n",
              "       [ 4.36689932e-02,  1.33145711e+00, -2.26314243e-01],\n",
              "       [ 7.42044161e-01, -8.87628964e-01, -1.91835552e-01],\n",
              "       [ 1.69382433e-01, -9.53700602e-01,  7.40556451e-01],\n",
              "       [-1.61577235e+00,  4.08900538e-01,  1.12141771e+00],\n",
              "       [ 2.19069973e+00, -6.46916688e-01, -1.89636092e+00],\n",
              "       [ 1.39984394e+00, -4.37508983e-01, -7.81911683e-01],\n",
              "       [ 8.24005618e-01,  1.95487808e+00, -5.62305431e-01],\n",
              "       [ 1.74481176e+00,  3.19039096e-01, -7.61206901e-01],\n",
              "       [-1.52568032e+00, -3.74438319e-01,  7.95026094e-01],\n",
              "       [-1.30572692e+00, -2.30839743e-01, -3.44987210e-01],\n",
              "       [-1.01745873e-01,  7.50411640e-01,  8.68886157e-01],\n",
              "       [-1.33195167e+00, -1.65072127e+00, -1.76068856e+00],\n",
              "       [-1.27255876e+00,  5.03184813e-01,  3.13547720e-01],\n",
              "       [-1.12201873e+00, -9.97026828e-01, -5.17094458e-01],\n",
              "       [ 9.00855949e-01, -1.22890226e-01, -6.83727859e-01],\n",
              "       [-2.02220122e+00,  8.27974643e-01, -3.06204013e-01],\n",
              "       [ 9.01486892e-01, -2.48634778e-01,  2.52832571e+00],\n",
              "       [ 1.96710175e+00,  1.23616403e+00, -1.85798186e+00],\n",
              "       [-1.11731035e+00,  1.65980218e+00,  2.34415698e-01],\n",
              "       [ 3.15159392e-01, -8.59515941e-01,  8.46160648e-01],\n",
              "       [ 6.23362177e-01,  1.40754000e+00, -4.34956683e-01],\n",
              "       [-1.74703160e-01,  2.13533901e-01,  9.86335188e-01],\n",
              "       [ 2.48799161e-01,  4.95211324e-01, -2.96641152e-01],\n",
              "       [-2.49370375e-01, -2.06014071e+00,  1.46210794e+00],\n",
              "       [-3.22417204e-01,  1.13376944e+00, -3.84054355e-01],\n",
              "       [-2.98092835e-01, -7.55717130e-02,  4.88518147e-01],\n",
              "       [ 2.11124755e-01,  1.77187720e-01,  1.65275673e-02],\n",
              "       [ 4.03491642e-01, -1.09491185e+00,  5.93578523e-01],\n",
              "       [-6.65754518e-01,  8.25029824e-01, -1.67419581e+00],\n",
              "       [-2.87307863e-01, -3.19801599e-01,  6.80069840e-01],\n",
              "       [-1.07296862e+00, -2.30153870e+00,  8.65407629e-01],\n",
              "       [-3.43853676e-01, -6.20000844e-01,  4.35968568e-02],\n",
              "       [ 2.30094735e-01, -2.22328143e-01,  7.62011180e-01],\n",
              "       [-2.66218506e-01, -1.37311732e+00,  3.26145467e-02],\n",
              "       [-7.47158294e-01,  5.08077548e-02,  1.69245460e+00],\n",
              "       [-1.04458938e+00,  5.85662000e-01,  2.05117344e+00],\n",
              "       [ 1.14472371e+00,  5.02494339e-01,  9.01590721e-01],\n",
              "       [ 4.29526140e-01,  1.06222724e-01, -6.06998398e-01],\n",
              "       [ 6.98032034e-01,  1.22450770e+00, -4.47128565e-01],\n",
              "       [-1.20464572e-01, -1.18231813e+00, -1.23312074e+00],\n",
              "       [ 1.62434536e+00, -5.28171752e-01, -6.11756414e-01],\n",
              "       [ 3.50545979e-01, -3.86955093e-02, -1.31228341e+00],\n",
              "       [ 1.60037069e-01,  3.15634947e-01,  8.76168921e-01],\n",
              "       [ 2.44936865e+00, -1.98837863e-01, -5.45774168e-01],\n",
              "       [-3.52249846e-01, -3.49342722e-01, -1.14251820e+00],\n",
              "       [ 1.20158952e-01,  3.00170320e-01,  6.17203110e-01],\n",
              "       [-1.23005814e+00,  7.92806866e-01,  5.50537496e-01],\n",
              "       [-2.46169559e-02,  1.27375593e+00, -7.75161619e-01],\n",
              "       [ 2.62467445e-01, -7.33271604e-01,  2.76499305e-01],\n",
              "       [ 1.62765075e+00, -1.19926803e+00,  3.38011697e-01],\n",
              "       [-7.31127037e-02,  3.69492716e-01,  1.16033857e+00],\n",
              "       [ 6.18539131e-01,  1.81053491e+00, -4.43171931e-01],\n",
              "       [-1.39662042e+00,  6.74711526e-01, -8.61316361e-01],\n",
              "       [-4.98213564e-01, -1.89148284e-03, -3.10984978e-01],\n",
              "       [-1.62743834e+00,  4.20282204e-01,  6.02319280e-01],\n",
              "       [-8.45205641e-01, -1.26645989e-02, -6.71246131e-01],\n",
              "       [-3.26499498e-01,  1.11438298e+00, -1.34267579e+00],\n",
              "       [ 9.31102081e-01,  8.85141164e-01,  2.85587325e-01],\n",
              "       [ 8.63345318e-01, -6.03920628e-01, -1.80920302e-01],\n",
              "       [-2.00758069e-01,  4.10051647e-01,  1.86561391e-01],\n",
              "       [ 1.98299720e-01, -6.70662286e-01,  1.19008646e-01],\n",
              "       [ 5.29465324e-01,  7.78211279e-02,  1.37701210e-01],\n",
              "       [-5.86523939e-01,  8.75838928e-01, -1.23685338e+00],\n",
              "       [-6.36995647e-01,  2.10025514e+00,  1.90915485e-01],\n",
              "       [-5.68244809e-02, -6.80678141e-01,  4.92336556e-01],\n",
              "       [-6.23530730e-01, -1.14434139e+00,  5.20576337e-01],\n",
              "       [ 6.18380262e-01,  6.82551407e-01,  2.32494559e-01],\n",
              "       [-6.38730407e-01,  7.73400683e-02,  4.23494354e-01],\n",
              "       [-1.36444744e-01,  1.74094083e-02, -1.19054188e-01],\n",
              "       [ 1.34048197e-01,  2.84748111e-01,  1.20205486e+00],\n",
              "       [ 3.77563786e-01,  1.12948391e+00,  1.21821271e-01],\n",
              "       [-2.08894233e-01,  8.38983414e-01,  5.86623191e-01],\n",
              "       [-1.44087602e+00, -2.54179868e-01,  1.23225307e+00],\n",
              "       [ 7.84770651e-01,  5.85910431e-01, -9.55425262e-01],\n",
              "       [ 9.54250872e-02,  6.07501958e-02,  9.21450069e-01],\n",
              "       [ 8.84908814e-01, -8.67787223e-01, -8.77281519e-01],\n",
              "       [-1.09989127e+00, -8.77858418e-01, -1.72428208e-01],\n",
              "       [ 1.13162939e+00,  2.18557541e+00,  1.51981682e+00],\n",
              "       [ 1.19891788e+00, -3.75284950e-01,  1.85156417e-01],\n",
              "       [-1.11647002e+00, -1.86578994e-01,  8.09271010e-02],\n",
              "       [ 2.18697965e+00, -1.00155233e-01,  4.41364444e-01],\n",
              "       [ 5.62761097e-01,  2.80665077e-01,  2.40737092e-01],\n",
              "       [-7.00398505e-01,  2.42669441e-01, -2.03394449e-01]])"
            ]
          },
          "metadata": {
            "tags": []
          },
          "execution_count": 12
        }
      ]
    },
    {
      "cell_type": "markdown",
      "metadata": {
        "id": "1Pdm-Jhd_oCJ"
      },
      "source": [
        "#CSV\r\n",
        "url='https://tinyurl.com/simulated_data'\r\n",
        "dt1=pd.read_csv(url)\r\n",
        "\r\n",
        "First, it is often useful to take a quick look at the contents of the file before loading. It can be very helpful to see how a dataset is structured beforehand and what parameters we need to set to load in the file. Second, read_csv has over 30 parameters and therefore the documentation can be daunting. Fortunately, those parameters are mostly there to allow it to handle a wide variety of CSV formats. For example, CSV files get their names from the fact that the values are literally separated by commas (e.g., one row might be 2,\"2015-01-01 00:00:00\",0); however, it is common for “CSV” files to use other characters as separators, like tabs. pandas’ sep parameter allows us to define the delimiter used in the file. Although it is not always the case, a common formatting issue with CSV files is that the first line of the file is used to define column headers (e.g., integer, datetime, category in our solution). The header parameter allows us to specify if or where a header row exists. If a header row does not exist, we set header=None.\r\n"
      ]
    },
    {
      "cell_type": "code",
      "metadata": {
        "id": "JkngMaaRxsND"
      },
      "source": [
        ""
      ],
      "execution_count": null,
      "outputs": []
    },
    {
      "cell_type": "markdown",
      "metadata": {
        "id": "_5ty_lPl_3K0"
      },
      "source": [
        "#Excel\r\n",
        "\r\n",
        "dt2=pd.read_excel(url or path,sheet_name=0,header=1)\r\n",
        "\r\n",
        "parameter, sheetname, that specifies which sheet in the Excel file we wish to load. sheetname can accept both strings containing the name of the sheet and integers pointing to sheet positions (zero-indexed). If we need to load multiple sheets, include them as a list. For example, sheetname=[0,1,2, \"Monthly Sales\"] will return a dictionary of pandas DataFrames containing the first, second, and third sheets and the sheet named Monthly Sales.\r\n"
      ]
    },
    {
      "cell_type": "markdown",
      "metadata": {
        "id": "xLe0FI1lAnpq"
      },
      "source": [
        "#Json\r\n",
        "\r\n",
        "dt3=pd.read_json(url,orient='column')\r\n",
        "\r\n"
      ]
    },
    {
      "cell_type": "markdown",
      "metadata": {
        "id": "8HpgtY-2A1Ib"
      },
      "source": [
        "###Querying a sql database\r\n",
        "from sqlalchemy import create_engine\r\n",
        "\r\n",
        "database_connection=create_engine('sqlite:///sample.db')\r\n",
        "\r\n",
        "dt4=pd.read_sql_query('Select * from data',database_connection)\r\n",
        "\r\n"
      ]
    },
    {
      "cell_type": "code",
      "metadata": {
        "id": "QDux4ksCBd-I"
      },
      "source": [
        ""
      ],
      "execution_count": null,
      "outputs": []
    }
  ]
}