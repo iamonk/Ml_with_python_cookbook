{
  "nbformat": 4,
  "nbformat_minor": 0,
  "metadata": {
    "colab": {
      "name": "Chapter 1 (Vectors, Matrices and Array).ipynb",
      "provenance": [],
      "collapsed_sections": [],
      "authorship_tag": "ABX9TyPnXe71YB93IsLW/OSun8dY",
      "include_colab_link": true
    },
    "kernelspec": {
      "name": "python3",
      "display_name": "Python 3"
    }
  },
  "cells": [
    {
      "cell_type": "markdown",
      "metadata": {
        "id": "view-in-github",
        "colab_type": "text"
      },
      "source": [
        "<a href=\"https://colab.research.google.com/github/iamonk/Ml_with_python_cookbook/blob/main/Chapter_1_(Vectors%2C_Matrices_and_Array).ipynb\" target=\"_parent\"><img src=\"https://colab.research.google.com/assets/colab-badge.svg\" alt=\"Open In Colab\"/></a>"
      ]
    },
    {
      "cell_type": "code",
      "metadata": {
        "id": "ukZU8Z1jx5jn"
      },
      "source": [
        "import numpy as np"
      ],
      "execution_count": 2,
      "outputs": []
    },
    {
      "cell_type": "code",
      "metadata": {
        "id": "A-Q2vmL1t_bA"
      },
      "source": [
        "#Matrix\r\n",
        "matrix_object=np.mat([[1,2],[3,4],[5,6]])"
      ],
      "execution_count": 3,
      "outputs": []
    },
    {
      "cell_type": "code",
      "metadata": {
        "colab": {
          "base_uri": "https://localhost:8080/"
        },
        "id": "i8TRThCRx2qZ",
        "outputId": "4b9b0563-40a1-414e-8ced-35e16e7c06ac"
      },
      "source": [
        "matrix_object"
      ],
      "execution_count": 5,
      "outputs": [
        {
          "output_type": "execute_result",
          "data": {
            "text/plain": [
              "matrix([[1, 2],\n",
              "        [3, 4],\n",
              "        [5, 6]])"
            ]
          },
          "metadata": {
            "tags": []
          },
          "execution_count": 5
        }
      ]
    },
    {
      "cell_type": "markdown",
      "metadata": {
        "id": "Hhue-D7-yCfy"
      },
      "source": [
        "## We didn't use Matrix datastructure (1.As array is the de facto standard structure of Numpy and majority of function return arrays not matrix object)"
      ]
    },
    {
      "cell_type": "code",
      "metadata": {
        "id": "U_gcmjflzJfo"
      },
      "source": [
        "from scipy import sparse"
      ],
      "execution_count": 6,
      "outputs": []
    },
    {
      "cell_type": "code",
      "metadata": {
        "id": "g5MPO2EcyyBd"
      },
      "source": [
        "#Creating a Sparse Matrix\r\n",
        "mt=np.array([[0,0],[0,1],[3,0]])\r\n",
        "mt_sparse=sparse.csr_matrix(mt)"
      ],
      "execution_count": 7,
      "outputs": []
    },
    {
      "cell_type": "code",
      "metadata": {
        "colab": {
          "base_uri": "https://localhost:8080/"
        },
        "id": "yqu9lrOtzP94",
        "outputId": "2b3c7794-e09e-4383-eef2-035996bf0259"
      },
      "source": [
        "print(mt_sparse)"
      ],
      "execution_count": 9,
      "outputs": [
        {
          "output_type": "stream",
          "text": [
            "  (1, 1)\t1\n",
            "  (2, 0)\t3\n"
          ],
          "name": "stdout"
        }
      ]
    },
    {
      "cell_type": "code",
      "metadata": {
        "colab": {
          "base_uri": "https://localhost:8080/"
        },
        "id": "o6ABYGxBzRiq",
        "outputId": "7e84e84e-e80b-4897-c7ae-998d68a8417f"
      },
      "source": [
        "mt_large=np.array([[0,0,0,0,0,0,0,0,0,0],[0,1,0,0,0,0,0,0,0,0],[3,0,0,0,0,0,0,0,0,0]])\r\n",
        "mt_large_sparse=sparse.csr_matrix(mt_large)\r\n",
        "print(mt_large_sparse)"
      ],
      "execution_count": 10,
      "outputs": [
        {
          "output_type": "stream",
          "text": [
            "  (1, 1)\t1\n",
            "  (2, 0)\t3\n"
          ],
          "name": "stdout"
        }
      ]
    },
    {
      "cell_type": "markdown",
      "metadata": {
        "id": "kkU89Lr90cAQ"
      },
      "source": [
        "## In practical machine learning experience there are many elements which are zero,which leads to computational problem. To get rid of extra zero and computational power we sparse the matrix or array. \r\n",
        "# Example: Netflix movie's and how many user watch it, Its obvious most user didn' watch all the movie(0) "
      ]
    },
    {
      "cell_type": "code",
      "metadata": {
        "colab": {
          "base_uri": "https://localhost:8080/"
        },
        "id": "pXp4dlLz1PCs",
        "outputId": "3ca9b745-0be5-4ab2-a998-85f211aa9f15"
      },
      "source": [
        "#Selecting\r\n",
        "mt2=np.array([[1,2,3],[4,5,6],[7,8,9]])\r\n",
        "# all rows and 2 and 3 column\r\n",
        "mt2[:,1:]"
      ],
      "execution_count": 11,
      "outputs": [
        {
          "output_type": "execute_result",
          "data": {
            "text/plain": [
              "array([[2, 3],\n",
              "       [5, 6],\n",
              "       [8, 9]])"
            ]
          },
          "metadata": {
            "tags": []
          },
          "execution_count": 11
        }
      ]
    },
    {
      "cell_type": "code",
      "metadata": {
        "colab": {
          "base_uri": "https://localhost:8080/"
        },
        "id": "K_2h49mJ2OF-",
        "outputId": "66b642d8-e9c0-47e3-e041-9fcf133239fb"
      },
      "source": [
        "#first 2 rows and all column\r\n",
        "mt2[:2,:]"
      ],
      "execution_count": 12,
      "outputs": [
        {
          "output_type": "execute_result",
          "data": {
            "text/plain": [
              "array([[1, 2, 3],\n",
              "       [4, 5, 6]])"
            ]
          },
          "metadata": {
            "tags": []
          },
          "execution_count": 12
        }
      ]
    },
    {
      "cell_type": "code",
      "metadata": {
        "colab": {
          "base_uri": "https://localhost:8080/"
        },
        "id": "Tcvle6a62ZZw",
        "outputId": "f1f32daf-7783-418d-82ce-b2e15616c2b5"
      },
      "source": [
        "#all rows and 2nd column\r\n",
        "mt2[:,1:2]"
      ],
      "execution_count": 13,
      "outputs": [
        {
          "output_type": "execute_result",
          "data": {
            "text/plain": [
              "array([[2],\n",
              "       [5],\n",
              "       [8]])"
            ]
          },
          "metadata": {
            "tags": []
          },
          "execution_count": 13
        }
      ]
    },
    {
      "cell_type": "code",
      "metadata": {
        "colab": {
          "base_uri": "https://localhost:8080/"
        },
        "id": "D23aZ4c_2jLd",
        "outputId": "53980e35-cd3c-42fa-f9c6-d367de42c4c8"
      },
      "source": [
        "#Describing a matrix\r\n",
        "mt2.shape,mt2.size,mt2.ndim"
      ],
      "execution_count": 14,
      "outputs": [
        {
          "output_type": "execute_result",
          "data": {
            "text/plain": [
              "((3, 3), 9, 2)"
            ]
          },
          "metadata": {
            "tags": []
          },
          "execution_count": 14
        }
      ]
    },
    {
      "cell_type": "markdown",
      "metadata": {
        "id": "Z755BraZ2z7J"
      },
      "source": [
        "## Vectorization And Broadcasting \r\n",
        "(Vectorization is just like a for loop and doesn't increase performance)\r\n",
        "Broadcasting(Only Numpy allows us)"
      ]
    },
    {
      "cell_type": "code",
      "metadata": {
        "id": "j3M2uzJT37oD"
      },
      "source": [
        "add_100=lambda i:i+100"
      ],
      "execution_count": 15,
      "outputs": []
    },
    {
      "cell_type": "code",
      "metadata": {
        "colab": {
          "base_uri": "https://localhost:8080/"
        },
        "id": "jrheUTuE4Bwp",
        "outputId": "c6fb4d53-c63c-4d2a-e8ff-681eb0824639"
      },
      "source": [
        "vectorized_add_100 = np.vectorize(add_100)\r\n",
        "vectorized_add_100(mt2)"
      ],
      "execution_count": 16,
      "outputs": [
        {
          "output_type": "execute_result",
          "data": {
            "text/plain": [
              "array([[101, 102, 103],\n",
              "       [104, 105, 106],\n",
              "       [107, 108, 109]])"
            ]
          },
          "metadata": {
            "tags": []
          },
          "execution_count": 16
        }
      ]
    },
    {
      "cell_type": "code",
      "metadata": {
        "colab": {
          "base_uri": "https://localhost:8080/"
        },
        "id": "9LA2mB-L4PF5",
        "outputId": "42dae0d4-30fa-4381-9d01-66cf1695ffd6"
      },
      "source": [
        "#Broadcasting (Very Fast)\r\n",
        "mt2+100"
      ],
      "execution_count": 17,
      "outputs": [
        {
          "output_type": "execute_result",
          "data": {
            "text/plain": [
              "array([[101, 102, 103],\n",
              "       [104, 105, 106],\n",
              "       [107, 108, 109]])"
            ]
          },
          "metadata": {
            "tags": []
          },
          "execution_count": 17
        }
      ]
    },
    {
      "cell_type": "code",
      "metadata": {
        "colab": {
          "base_uri": "https://localhost:8080/"
        },
        "id": "pIzW6ALB4T21",
        "outputId": "a833384c-6b3c-4960-9c04-4247b10dad04"
      },
      "source": [
        "#Max and Min\r\n",
        "np.max(mt2),np.min(mt2)"
      ],
      "execution_count": 20,
      "outputs": [
        {
          "output_type": "execute_result",
          "data": {
            "text/plain": [
              "(9, 1)"
            ]
          },
          "metadata": {
            "tags": []
          },
          "execution_count": 20
        }
      ]
    },
    {
      "cell_type": "code",
      "metadata": {
        "colab": {
          "base_uri": "https://localhost:8080/"
        },
        "id": "6t7kWrj84rvA",
        "outputId": "ca656187-b7b5-4061-c4b5-778682ab06f0"
      },
      "source": [
        "#column wise\r\n",
        "np.max(mt2,axis=0)"
      ],
      "execution_count": 21,
      "outputs": [
        {
          "output_type": "execute_result",
          "data": {
            "text/plain": [
              "array([7, 8, 9])"
            ]
          },
          "metadata": {
            "tags": []
          },
          "execution_count": 21
        }
      ]
    },
    {
      "cell_type": "code",
      "metadata": {
        "colab": {
          "base_uri": "https://localhost:8080/"
        },
        "id": "r3LGAPoy45On",
        "outputId": "3916f2af-f9e0-4bed-aede-900fe7724e9e"
      },
      "source": [
        "#row wise\r\n",
        "np.min(mt2,axis=1)"
      ],
      "execution_count": 23,
      "outputs": [
        {
          "output_type": "execute_result",
          "data": {
            "text/plain": [
              "array([1, 4, 7])"
            ]
          },
          "metadata": {
            "tags": []
          },
          "execution_count": 23
        }
      ]
    },
    {
      "cell_type": "code",
      "metadata": {
        "colab": {
          "base_uri": "https://localhost:8080/"
        },
        "id": "eiXgBfgO4_tE",
        "outputId": "7f3aff27-56d7-4b93-afd3-d0aaf657255f"
      },
      "source": [
        "#Mean, Variance and Std\r\n",
        "np.mean(mt2),np.var(mt2),np.std(mt2)"
      ],
      "execution_count": 24,
      "outputs": [
        {
          "output_type": "execute_result",
          "data": {
            "text/plain": [
              "(5.0, 6.666666666666667, 2.581988897471611)"
            ]
          },
          "metadata": {
            "tags": []
          },
          "execution_count": 24
        }
      ]
    },
    {
      "cell_type": "code",
      "metadata": {
        "colab": {
          "base_uri": "https://localhost:8080/"
        },
        "id": "cfo19Lcy5W9c",
        "outputId": "351da202-0800-4f2d-bb1b-40605cad87a9"
      },
      "source": [
        "#Reshaping(Size must remain same)\r\n",
        "mt2.reshape(9,1)"
      ],
      "execution_count": 25,
      "outputs": [
        {
          "output_type": "execute_result",
          "data": {
            "text/plain": [
              "array([[1],\n",
              "       [2],\n",
              "       [3],\n",
              "       [4],\n",
              "       [5],\n",
              "       [6],\n",
              "       [7],\n",
              "       [8],\n",
              "       [9]])"
            ]
          },
          "metadata": {
            "tags": []
          },
          "execution_count": 25
        }
      ]
    },
    {
      "cell_type": "code",
      "metadata": {
        "colab": {
          "base_uri": "https://localhost:8080/"
        },
        "id": "Gs3Y5jDv56aM",
        "outputId": "9b341702-d43e-4b38-a43b-f967c435cda7"
      },
      "source": [
        "mt2.reshape(1,9)"
      ],
      "execution_count": 26,
      "outputs": [
        {
          "output_type": "execute_result",
          "data": {
            "text/plain": [
              "array([[1, 2, 3, 4, 5, 6, 7, 8, 9]])"
            ]
          },
          "metadata": {
            "tags": []
          },
          "execution_count": 26
        }
      ]
    },
    {
      "cell_type": "code",
      "metadata": {
        "id": "dOpe6gIF59kp"
      },
      "source": [
        "mt3=np.array([[1,2,3],[4,5,6],[7,8,9],[10,11,12]])"
      ],
      "execution_count": 45,
      "outputs": []
    },
    {
      "cell_type": "code",
      "metadata": {
        "colab": {
          "base_uri": "https://localhost:8080/"
        },
        "id": "IaMcu7DX6K00",
        "outputId": "bd14bb99-de74-4431-d3a7-f776c5b6c094"
      },
      "source": [
        "mt3.shape"
      ],
      "execution_count": 28,
      "outputs": [
        {
          "output_type": "execute_result",
          "data": {
            "text/plain": [
              "(4, 3)"
            ]
          },
          "metadata": {
            "tags": []
          },
          "execution_count": 28
        }
      ]
    },
    {
      "cell_type": "code",
      "metadata": {
        "colab": {
          "base_uri": "https://localhost:8080/"
        },
        "id": "Npdf0JgL6RhL",
        "outputId": "3405281d-da1e-4605-ca87-71d8716970dc"
      },
      "source": [
        "mt3.reshape(6,2)"
      ],
      "execution_count": 32,
      "outputs": [
        {
          "output_type": "execute_result",
          "data": {
            "text/plain": [
              "array([[ 1,  2],\n",
              "       [ 3,  4],\n",
              "       [ 5, 60],\n",
              "       [ 7,  8],\n",
              "       [ 9, 10],\n",
              "       [11, 12]])"
            ]
          },
          "metadata": {
            "tags": []
          },
          "execution_count": 32
        }
      ]
    },
    {
      "cell_type": "code",
      "metadata": {
        "colab": {
          "base_uri": "https://localhost:8080/"
        },
        "id": "taQpPW716Uw_",
        "outputId": "0b329315-41eb-42b2-fd20-590c1d38077e"
      },
      "source": [
        "#Imp(-1 means as many as needed)\r\n",
        "mt3.reshape(2,-1),mt3.reshape(3,-1)"
      ],
      "execution_count": 33,
      "outputs": [
        {
          "output_type": "execute_result",
          "data": {
            "text/plain": [
              "(array([[ 1,  2,  3,  4,  5, 60],\n",
              "        [ 7,  8,  9, 10, 11, 12]]), array([[ 1,  2,  3,  4],\n",
              "        [ 5, 60,  7,  8],\n",
              "        [ 9, 10, 11, 12]]))"
            ]
          },
          "metadata": {
            "tags": []
          },
          "execution_count": 33
        }
      ]
    },
    {
      "cell_type": "code",
      "metadata": {
        "colab": {
          "base_uri": "https://localhost:8080/"
        },
        "id": "oZcfbt5I6mQV",
        "outputId": "2d108918-26fb-493a-abec-eb54dfda4a2d"
      },
      "source": [
        "#Transposing\r\n",
        "mt3.T"
      ],
      "execution_count": 34,
      "outputs": [
        {
          "output_type": "execute_result",
          "data": {
            "text/plain": [
              "array([[ 1,  4,  7, 10],\n",
              "       [ 2,  5,  8, 11],\n",
              "       [ 3, 60,  9, 12]])"
            ]
          },
          "metadata": {
            "tags": []
          },
          "execution_count": 34
        }
      ]
    },
    {
      "cell_type": "code",
      "metadata": {
        "colab": {
          "base_uri": "https://localhost:8080/"
        },
        "id": "J-qh6qSB6yz5",
        "outputId": "84d0837e-03e6-455e-b684-4d112a1cd6de"
      },
      "source": [
        "#Flatterning a matrix(Reshape a matrix into 1d array simply saying .reshape(1,-1)\r\n",
        "mt3.flatten()"
      ],
      "execution_count": 35,
      "outputs": [
        {
          "output_type": "execute_result",
          "data": {
            "text/plain": [
              "array([ 1,  2,  3,  4,  5, 60,  7,  8,  9, 10, 11, 12])"
            ]
          },
          "metadata": {
            "tags": []
          },
          "execution_count": 35
        }
      ]
    },
    {
      "cell_type": "code",
      "metadata": {
        "colab": {
          "base_uri": "https://localhost:8080/"
        },
        "id": "5eNP7moZ812T",
        "outputId": "5bb14ba4-078a-4db5-f2f9-8d484131ec78"
      },
      "source": [
        "mt3.flatten(order='F')"
      ],
      "execution_count": 36,
      "outputs": [
        {
          "output_type": "execute_result",
          "data": {
            "text/plain": [
              "array([ 1,  4,  7, 10,  2,  5,  8, 11,  3, 60,  9, 12])"
            ]
          },
          "metadata": {
            "tags": []
          },
          "execution_count": 36
        }
      ]
    },
    {
      "cell_type": "markdown",
      "metadata": {
        "id": "oB4XvyLR9Jzz"
      },
      "source": [
        "## Flatten in Column Major but default is Row major(Which is faster as iterating in continuos memory is faster than jumping back and forth which we seen in column Major(above example))"
      ]
    },
    {
      "cell_type": "code",
      "metadata": {
        "colab": {
          "base_uri": "https://localhost:8080/"
        },
        "id": "wBuRlSWa-CuT",
        "outputId": "71a309db-7aaf-4201-c301-fd3b8767dfce"
      },
      "source": [
        "#Rank of matrix\r\n",
        "np.linalg.matrix_rank(mt2)"
      ],
      "execution_count": 38,
      "outputs": [
        {
          "output_type": "execute_result",
          "data": {
            "text/plain": [
              "2"
            ]
          },
          "metadata": {
            "tags": []
          },
          "execution_count": 38
        }
      ]
    },
    {
      "cell_type": "code",
      "metadata": {
        "colab": {
          "base_uri": "https://localhost:8080/"
        },
        "id": "TiwIPBpO-Tsm",
        "outputId": "824c33df-dfd4-425b-9837-19628130afd8"
      },
      "source": [
        "#Determinant (Must be square)\r\n",
        "np.linalg.det(mt2)"
      ],
      "execution_count": 40,
      "outputs": [
        {
          "output_type": "execute_result",
          "data": {
            "text/plain": [
              "0.0"
            ]
          },
          "metadata": {
            "tags": []
          },
          "execution_count": 40
        }
      ]
    },
    {
      "cell_type": "code",
      "metadata": {
        "colab": {
          "base_uri": "https://localhost:8080/"
        },
        "id": "FZ64F0Ij-lov",
        "outputId": "3ec7d857-7858-4dad-9b2e-f7b8aba8391c"
      },
      "source": [
        "#diagonal\r\n",
        "mt3.diagonal()"
      ],
      "execution_count": 43,
      "outputs": [
        {
          "output_type": "execute_result",
          "data": {
            "text/plain": [
              "array([1, 5, 9])"
            ]
          },
          "metadata": {
            "tags": []
          },
          "execution_count": 43
        }
      ]
    },
    {
      "cell_type": "code",
      "metadata": {
        "colab": {
          "base_uri": "https://localhost:8080/"
        },
        "id": "PZwajQZh_DzY",
        "outputId": "c2db131d-22f4-4d59-d97f-af110bc2d558"
      },
      "source": [
        "mt3.diagonal(offset=1),mt3.diagonal(offset=-1) #(+ve for above the daigonal and -ve for below the diagonal)"
      ],
      "execution_count": 51,
      "outputs": [
        {
          "output_type": "execute_result",
          "data": {
            "text/plain": [
              "(array([2, 6]), array([ 4,  8, 12]))"
            ]
          },
          "metadata": {
            "tags": []
          },
          "execution_count": 51
        }
      ]
    },
    {
      "cell_type": "code",
      "metadata": {
        "colab": {
          "base_uri": "https://localhost:8080/"
        },
        "id": "iszRCsnt_U0d",
        "outputId": "492b437d-b594-4540-f7f7-cc299a1ae230"
      },
      "source": [
        "mt3"
      ],
      "execution_count": 46,
      "outputs": [
        {
          "output_type": "execute_result",
          "data": {
            "text/plain": [
              "array([[ 1,  2,  3],\n",
              "       [ 4,  5,  6],\n",
              "       [ 7,  8,  9],\n",
              "       [10, 11, 12]])"
            ]
          },
          "metadata": {
            "tags": []
          },
          "execution_count": 46
        }
      ]
    },
    {
      "cell_type": "code",
      "metadata": {
        "colab": {
          "base_uri": "https://localhost:8080/"
        },
        "id": "IfIPSFfZ_exB",
        "outputId": "0885707e-a421-41ee-ce42-30018a00e90a"
      },
      "source": [
        "#Trace (Sum of diagonal)\r\n",
        "mt3.trace()"
      ],
      "execution_count": 52,
      "outputs": [
        {
          "output_type": "execute_result",
          "data": {
            "text/plain": [
              "15"
            ]
          },
          "metadata": {
            "tags": []
          },
          "execution_count": 52
        }
      ]
    },
    {
      "cell_type": "code",
      "metadata": {
        "colab": {
          "base_uri": "https://localhost:8080/"
        },
        "id": "4liP7M7UAFCc",
        "outputId": "7a9e9438-baad-4f0c-9a18-5e62f6798769"
      },
      "source": [
        "sum(mt3.diagonal())"
      ],
      "execution_count": 53,
      "outputs": [
        {
          "output_type": "execute_result",
          "data": {
            "text/plain": [
              "15"
            ]
          },
          "metadata": {
            "tags": []
          },
          "execution_count": 53
        }
      ]
    },
    {
      "cell_type": "code",
      "metadata": {
        "id": "l_dsimvcAKvf"
      },
      "source": [
        "#EigenValues And EigenVector"
      ],
      "execution_count": null,
      "outputs": []
    }
  ]
}