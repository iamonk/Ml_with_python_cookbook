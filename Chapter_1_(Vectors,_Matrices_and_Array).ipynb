{
  "nbformat": 4,
  "nbformat_minor": 0,
  "metadata": {
    "colab": {
      "name": "Chapter 1 (Vectors, Matrices and Array).ipynb",
      "provenance": [],
      "collapsed_sections": [],
      "authorship_tag": "ABX9TyN3BWvMQ+HwsM/NDwPM+YW8",
      "include_colab_link": true
    },
    "kernelspec": {
      "name": "python3",
      "display_name": "Python 3"
    }
  },
  "cells": [
    {
      "cell_type": "markdown",
      "metadata": {
        "id": "view-in-github",
        "colab_type": "text"
      },
      "source": [
        "<a href=\"https://colab.research.google.com/github/iamonk/Ml_with_python_cookbook/blob/main/Chapter_1_(Vectors%2C_Matrices_and_Array).ipynb\" target=\"_parent\"><img src=\"https://colab.research.google.com/assets/colab-badge.svg\" alt=\"Open In Colab\"/></a>"
      ]
    },
    {
      "cell_type": "code",
      "metadata": {
        "id": "ukZU8Z1jx5jn"
      },
      "source": [
        "import numpy as np"
      ],
      "execution_count": null,
      "outputs": []
    },
    {
      "cell_type": "code",
      "metadata": {
        "id": "A-Q2vmL1t_bA"
      },
      "source": [
        "#Matrix\r\n",
        "matrix_object=np.mat([[1,2],[3,4],[5,6]])"
      ],
      "execution_count": null,
      "outputs": []
    },
    {
      "cell_type": "code",
      "metadata": {
        "colab": {
          "base_uri": "https://localhost:8080/"
        },
        "id": "i8TRThCRx2qZ",
        "outputId": "d2f4da4c-acb2-40d8-92e9-f55024014bd5"
      },
      "source": [
        "matrix_object"
      ],
      "execution_count": null,
      "outputs": [
        {
          "output_type": "execute_result",
          "data": {
            "text/plain": [
              "matrix([[1, 2],\n",
              "        [3, 4],\n",
              "        [5, 6]])"
            ]
          },
          "metadata": {
            "tags": []
          },
          "execution_count": 42
        }
      ]
    },
    {
      "cell_type": "markdown",
      "metadata": {
        "id": "Hhue-D7-yCfy"
      },
      "source": [
        "## We didn't use Matrix datastructure (1.As array is the de facto standard structure of Numpy and majority of function return arrays not matrix object)"
      ]
    },
    {
      "cell_type": "code",
      "metadata": {
        "id": "U_gcmjflzJfo"
      },
      "source": [
        "from scipy import sparse"
      ],
      "execution_count": null,
      "outputs": []
    },
    {
      "cell_type": "code",
      "metadata": {
        "id": "g5MPO2EcyyBd"
      },
      "source": [
        "#Creating a Sparse Matrix\r\n",
        "mt=np.array([[0,0],[0,1],[3,0]])\r\n",
        "mt_sparse=sparse.csr_matrix(mt)"
      ],
      "execution_count": null,
      "outputs": []
    },
    {
      "cell_type": "code",
      "metadata": {
        "colab": {
          "base_uri": "https://localhost:8080/"
        },
        "id": "yqu9lrOtzP94",
        "outputId": "02da2e77-10bc-48c6-adce-f539fabaad75"
      },
      "source": [
        "print(mt_sparse)"
      ],
      "execution_count": null,
      "outputs": [
        {
          "output_type": "stream",
          "text": [
            "  (1, 1)\t1\n",
            "  (2, 0)\t3\n"
          ],
          "name": "stdout"
        }
      ]
    },
    {
      "cell_type": "code",
      "metadata": {
        "colab": {
          "base_uri": "https://localhost:8080/"
        },
        "id": "o6ABYGxBzRiq",
        "outputId": "8acfdb4b-7c19-44c9-98fa-0f3b0da165ad"
      },
      "source": [
        "mt_large=np.array([[0,0,0,0,0,0,0,0,0,0],[0,1,0,0,0,0,0,0,0,0],[3,0,0,0,0,0,0,0,0,0]])\r\n",
        "mt_large_sparse=sparse.csr_matrix(mt_large)\r\n",
        "print(mt_large_sparse)"
      ],
      "execution_count": null,
      "outputs": [
        {
          "output_type": "stream",
          "text": [
            "  (1, 1)\t1\n",
            "  (2, 0)\t3\n"
          ],
          "name": "stdout"
        }
      ]
    },
    {
      "cell_type": "markdown",
      "metadata": {
        "id": "kkU89Lr90cAQ"
      },
      "source": [
        "## In practical machine learning experience there are many elements which are zero,which leads to computational problem. To get rid of extra zero and computational power we sparse the matrix or array. \r\n",
        "# Example: Netflix movie's and how many user watch it, Its obvious most user didn' watch all the movie(0) "
      ]
    },
    {
      "cell_type": "code",
      "metadata": {
        "colab": {
          "base_uri": "https://localhost:8080/"
        },
        "id": "pXp4dlLz1PCs",
        "outputId": "f5e53dda-b4ea-42a1-a4a9-1875c29b9f1f"
      },
      "source": [
        "#Selecting\r\n",
        "mt2=np.array([[1,2,3],[4,5,6],[7,8,9]])\r\n",
        "# all rows and 2 and 3 column\r\n",
        "mt2[:,1:]"
      ],
      "execution_count": null,
      "outputs": [
        {
          "output_type": "execute_result",
          "data": {
            "text/plain": [
              "array([[2, 3],\n",
              "       [5, 6],\n",
              "       [8, 9]])"
            ]
          },
          "metadata": {
            "tags": []
          },
          "execution_count": 47
        }
      ]
    },
    {
      "cell_type": "code",
      "metadata": {
        "colab": {
          "base_uri": "https://localhost:8080/"
        },
        "id": "K_2h49mJ2OF-",
        "outputId": "22d8f993-85e4-4732-9531-0306000b6435"
      },
      "source": [
        "#first 2 rows and all column\r\n",
        "mt2[:2,:]"
      ],
      "execution_count": null,
      "outputs": [
        {
          "output_type": "execute_result",
          "data": {
            "text/plain": [
              "array([[1, 2, 3],\n",
              "       [4, 5, 6]])"
            ]
          },
          "metadata": {
            "tags": []
          },
          "execution_count": 48
        }
      ]
    },
    {
      "cell_type": "code",
      "metadata": {
        "colab": {
          "base_uri": "https://localhost:8080/"
        },
        "id": "Tcvle6a62ZZw",
        "outputId": "d0a2a5e3-d5bb-41ed-81e1-eb763cc15513"
      },
      "source": [
        "#all rows and 2nd column\r\n",
        "mt2[:,1:2]"
      ],
      "execution_count": null,
      "outputs": [
        {
          "output_type": "execute_result",
          "data": {
            "text/plain": [
              "array([[2],\n",
              "       [5],\n",
              "       [8]])"
            ]
          },
          "metadata": {
            "tags": []
          },
          "execution_count": 49
        }
      ]
    },
    {
      "cell_type": "code",
      "metadata": {
        "colab": {
          "base_uri": "https://localhost:8080/"
        },
        "id": "D23aZ4c_2jLd",
        "outputId": "add80083-52bf-4d9d-f146-8a613a441379"
      },
      "source": [
        "#Describing a matrix\r\n",
        "mt2.shape,mt2.size,mt2.ndim"
      ],
      "execution_count": null,
      "outputs": [
        {
          "output_type": "execute_result",
          "data": {
            "text/plain": [
              "((3, 3), 9, 2)"
            ]
          },
          "metadata": {
            "tags": []
          },
          "execution_count": 50
        }
      ]
    },
    {
      "cell_type": "markdown",
      "metadata": {
        "id": "Z755BraZ2z7J"
      },
      "source": [
        "## Vectorization And Broadcasting \r\n",
        "(Vectorization is just like a for loop and doesn't increase performance)\r\n",
        "Broadcasting(Only Numpy allows us)"
      ]
    },
    {
      "cell_type": "code",
      "metadata": {
        "id": "j3M2uzJT37oD"
      },
      "source": [
        "add_100=lambda i:i+100"
      ],
      "execution_count": null,
      "outputs": []
    },
    {
      "cell_type": "code",
      "metadata": {
        "colab": {
          "base_uri": "https://localhost:8080/"
        },
        "id": "jrheUTuE4Bwp",
        "outputId": "d9e9c417-1a9b-4410-ead0-33b28a419d1d"
      },
      "source": [
        "vectorized_add_100 = np.vectorize(add_100)\r\n",
        "vectorized_add_100(mt2)"
      ],
      "execution_count": null,
      "outputs": [
        {
          "output_type": "execute_result",
          "data": {
            "text/plain": [
              "array([[101, 102, 103],\n",
              "       [104, 105, 106],\n",
              "       [107, 108, 109]])"
            ]
          },
          "metadata": {
            "tags": []
          },
          "execution_count": 52
        }
      ]
    },
    {
      "cell_type": "code",
      "metadata": {
        "colab": {
          "base_uri": "https://localhost:8080/"
        },
        "id": "9LA2mB-L4PF5",
        "outputId": "ffb5b7a0-37b0-4207-e247-7d597f3d29db"
      },
      "source": [
        "#Broadcasting (Very Fast)\r\n",
        "mt2+100"
      ],
      "execution_count": null,
      "outputs": [
        {
          "output_type": "execute_result",
          "data": {
            "text/plain": [
              "array([[101, 102, 103],\n",
              "       [104, 105, 106],\n",
              "       [107, 108, 109]])"
            ]
          },
          "metadata": {
            "tags": []
          },
          "execution_count": 53
        }
      ]
    },
    {
      "cell_type": "code",
      "metadata": {
        "colab": {
          "base_uri": "https://localhost:8080/"
        },
        "id": "pIzW6ALB4T21",
        "outputId": "e543907a-d3d9-4305-f957-24cd5e37c912"
      },
      "source": [
        "#Max and Min\r\n",
        "np.max(mt2),np.min(mt2)"
      ],
      "execution_count": null,
      "outputs": [
        {
          "output_type": "execute_result",
          "data": {
            "text/plain": [
              "(9, 1)"
            ]
          },
          "metadata": {
            "tags": []
          },
          "execution_count": 54
        }
      ]
    },
    {
      "cell_type": "code",
      "metadata": {
        "colab": {
          "base_uri": "https://localhost:8080/"
        },
        "id": "6t7kWrj84rvA",
        "outputId": "22c232e1-e56b-468f-ba99-cab5acdcee3f"
      },
      "source": [
        "#column wise\r\n",
        "np.max(mt2,axis=0)"
      ],
      "execution_count": null,
      "outputs": [
        {
          "output_type": "execute_result",
          "data": {
            "text/plain": [
              "array([7, 8, 9])"
            ]
          },
          "metadata": {
            "tags": []
          },
          "execution_count": 55
        }
      ]
    },
    {
      "cell_type": "code",
      "metadata": {
        "colab": {
          "base_uri": "https://localhost:8080/"
        },
        "id": "r3LGAPoy45On",
        "outputId": "5cfe679b-0149-4ed2-a05e-576667e31f92"
      },
      "source": [
        "#row wise\r\n",
        "np.min(mt2,axis=1)"
      ],
      "execution_count": null,
      "outputs": [
        {
          "output_type": "execute_result",
          "data": {
            "text/plain": [
              "array([1, 4, 7])"
            ]
          },
          "metadata": {
            "tags": []
          },
          "execution_count": 56
        }
      ]
    },
    {
      "cell_type": "code",
      "metadata": {
        "colab": {
          "base_uri": "https://localhost:8080/"
        },
        "id": "eiXgBfgO4_tE",
        "outputId": "022dcb24-a859-450d-9199-1d335fa41393"
      },
      "source": [
        "#Mean, Variance and Std\r\n",
        "np.mean(mt2),np.var(mt2),np.std(mt2)"
      ],
      "execution_count": null,
      "outputs": [
        {
          "output_type": "execute_result",
          "data": {
            "text/plain": [
              "(5.0, 6.666666666666667, 2.581988897471611)"
            ]
          },
          "metadata": {
            "tags": []
          },
          "execution_count": 57
        }
      ]
    },
    {
      "cell_type": "code",
      "metadata": {
        "colab": {
          "base_uri": "https://localhost:8080/"
        },
        "id": "cfo19Lcy5W9c",
        "outputId": "2443ea54-0dc9-4c35-b49b-c29c10d69276"
      },
      "source": [
        "#Reshaping(Size must remain same)\r\n",
        "mt2.reshape(9,1)"
      ],
      "execution_count": null,
      "outputs": [
        {
          "output_type": "execute_result",
          "data": {
            "text/plain": [
              "array([[1],\n",
              "       [2],\n",
              "       [3],\n",
              "       [4],\n",
              "       [5],\n",
              "       [6],\n",
              "       [7],\n",
              "       [8],\n",
              "       [9]])"
            ]
          },
          "metadata": {
            "tags": []
          },
          "execution_count": 58
        }
      ]
    },
    {
      "cell_type": "code",
      "metadata": {
        "colab": {
          "base_uri": "https://localhost:8080/"
        },
        "id": "Gs3Y5jDv56aM",
        "outputId": "0a00eedd-1dd9-44aa-b484-35f6d43aed33"
      },
      "source": [
        "mt2.reshape(1,9)"
      ],
      "execution_count": null,
      "outputs": [
        {
          "output_type": "execute_result",
          "data": {
            "text/plain": [
              "array([[1, 2, 3, 4, 5, 6, 7, 8, 9]])"
            ]
          },
          "metadata": {
            "tags": []
          },
          "execution_count": 59
        }
      ]
    },
    {
      "cell_type": "code",
      "metadata": {
        "id": "dOpe6gIF59kp"
      },
      "source": [
        "mt3=np.array([[1,2,3],[4,5,6],[7,8,9],[10,11,12]])"
      ],
      "execution_count": null,
      "outputs": []
    },
    {
      "cell_type": "code",
      "metadata": {
        "colab": {
          "base_uri": "https://localhost:8080/"
        },
        "id": "IaMcu7DX6K00",
        "outputId": "c6ba6e66-4ae1-4a5c-8525-e71ab1ea1e32"
      },
      "source": [
        "mt3.shape"
      ],
      "execution_count": null,
      "outputs": [
        {
          "output_type": "execute_result",
          "data": {
            "text/plain": [
              "(4, 3)"
            ]
          },
          "metadata": {
            "tags": []
          },
          "execution_count": 61
        }
      ]
    },
    {
      "cell_type": "code",
      "metadata": {
        "colab": {
          "base_uri": "https://localhost:8080/"
        },
        "id": "Npdf0JgL6RhL",
        "outputId": "e6367ccd-2def-472d-9946-f3aba1e87c07"
      },
      "source": [
        "mt3.reshape(6,2)"
      ],
      "execution_count": null,
      "outputs": [
        {
          "output_type": "execute_result",
          "data": {
            "text/plain": [
              "array([[ 1,  2],\n",
              "       [ 3,  4],\n",
              "       [ 5,  6],\n",
              "       [ 7,  8],\n",
              "       [ 9, 10],\n",
              "       [11, 12]])"
            ]
          },
          "metadata": {
            "tags": []
          },
          "execution_count": 62
        }
      ]
    },
    {
      "cell_type": "code",
      "metadata": {
        "colab": {
          "base_uri": "https://localhost:8080/"
        },
        "id": "taQpPW716Uw_",
        "outputId": "12b45470-2119-4047-b49a-b522c89591b6"
      },
      "source": [
        "#Imp(-1 means as many as needed)\r\n",
        "mt3.reshape(2,-1),mt3.reshape(3,-1)"
      ],
      "execution_count": null,
      "outputs": [
        {
          "output_type": "execute_result",
          "data": {
            "text/plain": [
              "(array([[ 1,  2,  3,  4,  5,  6],\n",
              "        [ 7,  8,  9, 10, 11, 12]]), array([[ 1,  2,  3,  4],\n",
              "        [ 5,  6,  7,  8],\n",
              "        [ 9, 10, 11, 12]]))"
            ]
          },
          "metadata": {
            "tags": []
          },
          "execution_count": 63
        }
      ]
    },
    {
      "cell_type": "code",
      "metadata": {
        "colab": {
          "base_uri": "https://localhost:8080/"
        },
        "id": "oZcfbt5I6mQV",
        "outputId": "94b6cecd-9c6c-4ab2-db3f-0280823054ca"
      },
      "source": [
        "#Transposing\r\n",
        "mt3.T"
      ],
      "execution_count": null,
      "outputs": [
        {
          "output_type": "execute_result",
          "data": {
            "text/plain": [
              "array([[ 1,  4,  7, 10],\n",
              "       [ 2,  5,  8, 11],\n",
              "       [ 3,  6,  9, 12]])"
            ]
          },
          "metadata": {
            "tags": []
          },
          "execution_count": 64
        }
      ]
    },
    {
      "cell_type": "code",
      "metadata": {
        "colab": {
          "base_uri": "https://localhost:8080/"
        },
        "id": "J-qh6qSB6yz5",
        "outputId": "8cd686f9-1cc4-4bbb-f651-d3faf13b5b66"
      },
      "source": [
        "#Flatterning a matrix(Reshape a matrix into 1d array simply saying .reshape(1,-1)\r\n",
        "mt3.flatten()"
      ],
      "execution_count": null,
      "outputs": [
        {
          "output_type": "execute_result",
          "data": {
            "text/plain": [
              "array([ 1,  2,  3,  4,  5,  6,  7,  8,  9, 10, 11, 12])"
            ]
          },
          "metadata": {
            "tags": []
          },
          "execution_count": 65
        }
      ]
    },
    {
      "cell_type": "code",
      "metadata": {
        "colab": {
          "base_uri": "https://localhost:8080/"
        },
        "id": "5eNP7moZ812T",
        "outputId": "279a762c-58d8-44bf-be48-022e8e43a88f"
      },
      "source": [
        "mt3.flatten(order='F')"
      ],
      "execution_count": null,
      "outputs": [
        {
          "output_type": "execute_result",
          "data": {
            "text/plain": [
              "array([ 1,  4,  7, 10,  2,  5,  8, 11,  3,  6,  9, 12])"
            ]
          },
          "metadata": {
            "tags": []
          },
          "execution_count": 66
        }
      ]
    },
    {
      "cell_type": "markdown",
      "metadata": {
        "id": "oB4XvyLR9Jzz"
      },
      "source": [
        "## Flatten in Column Major but default is Row major(Which is faster as iterating in continuos memory is faster than jumping back and forth which we seen in column Major(above example))"
      ]
    },
    {
      "cell_type": "code",
      "metadata": {
        "colab": {
          "base_uri": "https://localhost:8080/"
        },
        "id": "wBuRlSWa-CuT",
        "outputId": "535e937c-fbf5-4a71-adec-47790f2507ee"
      },
      "source": [
        "#Rank of matrix\r\n",
        "np.linalg.matrix_rank(mt2)"
      ],
      "execution_count": null,
      "outputs": [
        {
          "output_type": "execute_result",
          "data": {
            "text/plain": [
              "2"
            ]
          },
          "metadata": {
            "tags": []
          },
          "execution_count": 67
        }
      ]
    },
    {
      "cell_type": "code",
      "metadata": {
        "colab": {
          "base_uri": "https://localhost:8080/"
        },
        "id": "TiwIPBpO-Tsm",
        "outputId": "a0c6def2-70df-4ebe-e8ae-a312e4422ea0"
      },
      "source": [
        "#Determinant (Must be square)\r\n",
        "np.linalg.det(mt2)"
      ],
      "execution_count": null,
      "outputs": [
        {
          "output_type": "execute_result",
          "data": {
            "text/plain": [
              "0.0"
            ]
          },
          "metadata": {
            "tags": []
          },
          "execution_count": 68
        }
      ]
    },
    {
      "cell_type": "code",
      "metadata": {
        "colab": {
          "base_uri": "https://localhost:8080/"
        },
        "id": "FZ64F0Ij-lov",
        "outputId": "5d7645d7-9c4e-424f-c138-b6fe4e1b142e"
      },
      "source": [
        "#diagonal\r\n",
        "mt3.diagonal()"
      ],
      "execution_count": null,
      "outputs": [
        {
          "output_type": "execute_result",
          "data": {
            "text/plain": [
              "array([1, 5, 9])"
            ]
          },
          "metadata": {
            "tags": []
          },
          "execution_count": 69
        }
      ]
    },
    {
      "cell_type": "code",
      "metadata": {
        "colab": {
          "base_uri": "https://localhost:8080/"
        },
        "id": "PZwajQZh_DzY",
        "outputId": "0e5440e5-86d9-4d70-9c2f-6411dfec3a6f"
      },
      "source": [
        "mt3.diagonal(offset=1),mt3.diagonal(offset=-1) #(+ve for above the daigonal and -ve for below the diagonal)"
      ],
      "execution_count": null,
      "outputs": [
        {
          "output_type": "execute_result",
          "data": {
            "text/plain": [
              "(array([2, 6]), array([ 4,  8, 12]))"
            ]
          },
          "metadata": {
            "tags": []
          },
          "execution_count": 70
        }
      ]
    },
    {
      "cell_type": "code",
      "metadata": {
        "colab": {
          "base_uri": "https://localhost:8080/"
        },
        "id": "iszRCsnt_U0d",
        "outputId": "526b9f13-67a7-4f8e-ebf9-cfb5c72557cc"
      },
      "source": [
        "mt3"
      ],
      "execution_count": null,
      "outputs": [
        {
          "output_type": "execute_result",
          "data": {
            "text/plain": [
              "array([[ 1,  2,  3],\n",
              "       [ 4,  5,  6],\n",
              "       [ 7,  8,  9],\n",
              "       [10, 11, 12]])"
            ]
          },
          "metadata": {
            "tags": []
          },
          "execution_count": 71
        }
      ]
    },
    {
      "cell_type": "code",
      "metadata": {
        "colab": {
          "base_uri": "https://localhost:8080/"
        },
        "id": "IfIPSFfZ_exB",
        "outputId": "7031142a-c13a-433b-8b61-af874c76a1b4"
      },
      "source": [
        "#Trace (Sum of diagonal)\r\n",
        "mt3.trace()"
      ],
      "execution_count": null,
      "outputs": [
        {
          "output_type": "execute_result",
          "data": {
            "text/plain": [
              "15"
            ]
          },
          "metadata": {
            "tags": []
          },
          "execution_count": 72
        }
      ]
    },
    {
      "cell_type": "code",
      "metadata": {
        "colab": {
          "base_uri": "https://localhost:8080/"
        },
        "id": "4liP7M7UAFCc",
        "outputId": "5700a161-4001-4a53-bf15-d7199d4f6f41"
      },
      "source": [
        "sum(mt3.diagonal())"
      ],
      "execution_count": null,
      "outputs": [
        {
          "output_type": "execute_result",
          "data": {
            "text/plain": [
              "15"
            ]
          },
          "metadata": {
            "tags": []
          },
          "execution_count": 73
        }
      ]
    },
    {
      "cell_type": "code",
      "metadata": {
        "id": "l_dsimvcAKvf",
        "colab": {
          "base_uri": "https://localhost:8080/"
        },
        "outputId": "86a96d86-abba-4b1f-a0e6-d0aec9c4b9b9"
      },
      "source": [
        "#EigenValues And EigenVector\r\n",
        "#must be square\r\n",
        "EigenValues,EigenVector = np.linalg.eig((mt2))\r\n",
        "EigenValues,EigenVector"
      ],
      "execution_count": null,
      "outputs": [
        {
          "output_type": "execute_result",
          "data": {
            "text/plain": [
              "(array([ 1.61168440e+01, -1.11684397e+00, -9.75918483e-16]),\n",
              " array([[-0.23197069, -0.78583024,  0.40824829],\n",
              "        [-0.52532209, -0.08675134, -0.81649658],\n",
              "        [-0.8186735 ,  0.61232756,  0.40824829]]))"
            ]
          },
          "metadata": {
            "tags": []
          },
          "execution_count": 74
        }
      ]
    },
    {
      "cell_type": "code",
      "metadata": {
        "id": "n0txWU4Rz-MH"
      },
      "source": [
        "eigval,eigvc=np.linalg.eig(mt2)"
      ],
      "execution_count": 76,
      "outputs": []
    },
    {
      "cell_type": "markdown",
      "metadata": {
        "id": "E50rH4bk0YWL"
      },
      "source": [
        "# Eigenvectors are widely used in machine learning libraries. Intuitively, given a linear transformation represented by a matrix, A, eigenvectors are vectors that, when that transformation is applied, change only in scale (not direction). More formally: Av = λv where A is a square matrix, λ contains the eigenvalues and v contains the eigenvec‐ tors. In NumPy’s linear algebra toolset, eig lets us calculate the eigenvalues, and eigenvectors of any square matrix."
      ]
    },
    {
      "cell_type": "code",
      "metadata": {
        "colab": {
          "base_uri": "https://localhost:8080/"
        },
        "id": "aiVd3L6T2Pkz",
        "outputId": "96092da8-081f-40b0-b529-3d576b341a05"
      },
      "source": [
        "#Dot Product (Matrix Multiplication)\r\n",
        "mt4=np.array([[1,2,3],[4,5,6],[7,8,9]])\r\n",
        "np.dot(mt2,mt4)"
      ],
      "execution_count": 79,
      "outputs": [
        {
          "output_type": "execute_result",
          "data": {
            "text/plain": [
              "array([[ 30,  36,  42],\n",
              "       [ 66,  81,  96],\n",
              "       [102, 126, 150]])"
            ]
          },
          "metadata": {
            "tags": []
          },
          "execution_count": 79
        }
      ]
    },
    {
      "cell_type": "code",
      "metadata": {
        "colab": {
          "base_uri": "https://localhost:8080/"
        },
        "id": "p48lf1Ob2j7Z",
        "outputId": "b3d9cf2f-5832-491f-f442-7dabce49eed9"
      },
      "source": [
        "#Add and subtract you can simply use (+ or -) or (np.add,np.subtract)\r\n",
        "mt2+mt4"
      ],
      "execution_count": 80,
      "outputs": [
        {
          "output_type": "execute_result",
          "data": {
            "text/plain": [
              "array([[ 2,  4,  6],\n",
              "       [ 8, 10, 12],\n",
              "       [14, 16, 18]])"
            ]
          },
          "metadata": {
            "tags": []
          },
          "execution_count": 80
        }
      ]
    },
    {
      "cell_type": "code",
      "metadata": {
        "colab": {
          "base_uri": "https://localhost:8080/"
        },
        "id": "hiZ9YzDZ3Zhf",
        "outputId": "bd6f6207-a681-48fc-e1c3-16d4fc4edf8d"
      },
      "source": [
        "np.subtract(mt2,mt4)"
      ],
      "execution_count": 82,
      "outputs": [
        {
          "output_type": "execute_result",
          "data": {
            "text/plain": [
              "array([[0, 0, 0],\n",
              "       [0, 0, 0],\n",
              "       [0, 0, 0]])"
            ]
          },
          "metadata": {
            "tags": []
          },
          "execution_count": 82
        }
      ]
    },
    {
      "cell_type": "code",
      "metadata": {
        "colab": {
          "base_uri": "https://localhost:8080/"
        },
        "id": "wqXupiNT3cX0",
        "outputId": "1e16af9c-43c9-47bd-d106-6801ae146ebc"
      },
      "source": [
        "## Element Wise Multiplication(a*b) and Dot wise Multiplication (a@b)\r\n",
        "mt2*mt4"
      ],
      "execution_count": 83,
      "outputs": [
        {
          "output_type": "execute_result",
          "data": {
            "text/plain": [
              "array([[ 1,  4,  9],\n",
              "       [16, 25, 36],\n",
              "       [49, 64, 81]])"
            ]
          },
          "metadata": {
            "tags": []
          },
          "execution_count": 83
        }
      ]
    },
    {
      "cell_type": "code",
      "metadata": {
        "colab": {
          "base_uri": "https://localhost:8080/"
        },
        "id": "SiiLi8OP37Z1",
        "outputId": "5633cdec-3341-46a5-f4ea-7cfdcaf32294"
      },
      "source": [
        "mt2 @ mt4"
      ],
      "execution_count": 84,
      "outputs": [
        {
          "output_type": "execute_result",
          "data": {
            "text/plain": [
              "array([[ 30,  36,  42],\n",
              "       [ 66,  81,  96],\n",
              "       [102, 126, 150]])"
            ]
          },
          "metadata": {
            "tags": []
          },
          "execution_count": 84
        }
      ]
    },
    {
      "cell_type": "code",
      "metadata": {
        "id": "AQm1lYmN3912"
      },
      "source": [
        "#Inversing A matrix\r\n",
        "mt5=np.array([[1,4],[2,5]])"
      ],
      "execution_count": 95,
      "outputs": []
    },
    {
      "cell_type": "code",
      "metadata": {
        "id": "Wfa42ATJ4HP7"
      },
      "source": [
        "inv=np.linalg.inv(mt5)"
      ],
      "execution_count": 98,
      "outputs": []
    },
    {
      "cell_type": "code",
      "metadata": {
        "colab": {
          "base_uri": "https://localhost:8080/"
        },
        "id": "Ei-XM9mT4kgK",
        "outputId": "777c07fd-7f0c-45b4-bd14-33d67a7ff01a"
      },
      "source": [
        "mt5 @ inv"
      ],
      "execution_count": 99,
      "outputs": [
        {
          "output_type": "execute_result",
          "data": {
            "text/plain": [
              "array([[1.00000000e+00, 0.00000000e+00],\n",
              "       [1.11022302e-16, 1.00000000e+00]])"
            ]
          },
          "metadata": {
            "tags": []
          },
          "execution_count": 99
        }
      ]
    },
    {
      "cell_type": "code",
      "metadata": {
        "id": "1yspE8cS46cX"
      },
      "source": [
        "#Random Number\r\n",
        "np.random.seed(seed=0)\r\n",
        "mt6=np.random.random((3,4))"
      ],
      "execution_count": 100,
      "outputs": []
    },
    {
      "cell_type": "code",
      "metadata": {
        "colab": {
          "base_uri": "https://localhost:8080/"
        },
        "id": "44A55V4v5i0i",
        "outputId": "0c6deeb0-105f-464e-9aaa-9a6e4dec721e"
      },
      "source": [
        "mt6"
      ],
      "execution_count": 101,
      "outputs": [
        {
          "output_type": "execute_result",
          "data": {
            "text/plain": [
              "array([[0.5488135 , 0.71518937, 0.60276338, 0.54488318],\n",
              "       [0.4236548 , 0.64589411, 0.43758721, 0.891773  ],\n",
              "       [0.96366276, 0.38344152, 0.79172504, 0.52889492]])"
            ]
          },
          "metadata": {
            "tags": []
          },
          "execution_count": 101
        }
      ]
    },
    {
      "cell_type": "code",
      "metadata": {
        "colab": {
          "base_uri": "https://localhost:8080/"
        },
        "id": "qNaBX5iG5jrC",
        "outputId": "1023b2a6-8eee-47d1-cb2b-afb35f7154dc"
      },
      "source": [
        "np.random.randint(1,10,size=(4,4))"
      ],
      "execution_count": 102,
      "outputs": [
        {
          "output_type": "execute_result",
          "data": {
            "text/plain": [
              "array([[9, 2, 6, 9],\n",
              "       [5, 4, 1, 4],\n",
              "       [6, 1, 3, 4],\n",
              "       [9, 2, 4, 4]])"
            ]
          },
          "metadata": {
            "tags": []
          },
          "execution_count": 102
        }
      ]
    },
    {
      "cell_type": "code",
      "metadata": {
        "colab": {
          "base_uri": "https://localhost:8080/"
        },
        "id": "94xEI1DJ5sYI",
        "outputId": "f9db9b42-f091-435c-f573-6aab7e168d3a"
      },
      "source": [
        "np.random.rand(5,3)"
      ],
      "execution_count": 108,
      "outputs": [
        {
          "output_type": "execute_result",
          "data": {
            "text/plain": [
              "array([[0.75068614, 0.60783067, 0.32504723],\n",
              "       [0.03842543, 0.63427406, 0.95894927],\n",
              "       [0.65279032, 0.63505887, 0.99529957],\n",
              "       [0.58185033, 0.41436859, 0.4746975 ],\n",
              "       [0.6235101 , 0.33800761, 0.67475232]])"
            ]
          },
          "metadata": {
            "tags": []
          },
          "execution_count": 108
        }
      ]
    },
    {
      "cell_type": "code",
      "metadata": {
        "id": "p-OnxMbQ6Dq-"
      },
      "source": [
        "#Finished"
      ],
      "execution_count": null,
      "outputs": []
    }
  ]
}